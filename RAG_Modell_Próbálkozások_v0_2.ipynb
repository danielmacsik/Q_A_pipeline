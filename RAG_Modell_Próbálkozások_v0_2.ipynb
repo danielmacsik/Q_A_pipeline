{
  "nbformat": 4,
  "nbformat_minor": 0,
  "metadata": {
    "colab": {
      "provenance": []
    },
    "kernelspec": {
      "name": "python3",
      "display_name": "Python 3"
    },
    "language_info": {
      "name": "python"
    }
  },
  "cells": [
    {
      "cell_type": "markdown",
      "source": [
        "A megoldásomhoz ingyenes elemek felhasználásával próbáltam eljutni:\n",
        "https://huggingface.co/docs/transformers/model_doc/rag"
      ],
      "metadata": {
        "id": "PEZje4UyEHsf"
      }
    },
    {
      "cell_type": "markdown",
      "source": [
        "# **Első Próba**"
      ],
      "metadata": {
        "id": "VvmqnfdW09lk"
      }
    },
    {
      "cell_type": "markdown",
      "source": [
        "Itt próbáltam kikésrletezni, mely parancsokkal képes meghívni a facebook/ rag tokenjeihez kapcsolódó modulokat, a meghívásokat mindenképpen futtatni kell"
      ],
      "metadata": {
        "id": "b9tT3lU-B6X0"
      }
    },
    {
      "cell_type": "code",
      "source": [
        "%pip install datasets"
      ],
      "metadata": {
        "id": "6SF8U2r9yXVP"
      },
      "execution_count": null,
      "outputs": []
    },
    {
      "cell_type": "code",
      "source": [
        "!apt install libomp-dev\n",
        "!pip install faiss-cpu"
      ],
      "metadata": {
        "id": "_5UOZiBAyzA2"
      },
      "execution_count": null,
      "outputs": []
    },
    {
      "cell_type": "code",
      "source": [
        "import datasets\n",
        "import faiss"
      ],
      "metadata": {
        "id": "FBhYOPjHzkdN"
      },
      "execution_count": null,
      "outputs": []
    },
    {
      "cell_type": "code",
      "source": [
        "from transformers import RagTokenizer, RagRetriever, RagTokenForGeneration\n",
        "from transformers import pipeline"
      ],
      "metadata": {
        "id": "E225nsAMz4sC"
      },
      "execution_count": null,
      "outputs": []
    },
    {
      "cell_type": "code",
      "execution_count": null,
      "metadata": {
        "id": "kKZP8l23yJD1"
      },
      "outputs": [],
      "source": [
        "# Tokenizáló betöltése\n",
        "tokenizer = RagTokenizer.from_pretrained(\"facebook/rag-token-base\")"
      ]
    },
    {
      "cell_type": "code",
      "source": [
        "# Retriever betöltése\n",
        "retriever = RagRetriever.from_pretrained(\"facebook/rag-token-base\", index_name=\"exact\", use_dummy_dataset=True)"
      ],
      "metadata": {
        "id": "7KOeMstE1JHU"
      },
      "execution_count": null,
      "outputs": []
    },
    {
      "cell_type": "markdown",
      "source": [
        "A következő része a modell *maga* mivel a modellt rendkívül sokáig tartott tervezetten megfuttatni, ezért lett két részre szedve\n"
      ],
      "metadata": {
        "id": "uVTtggjq63ao"
      }
    },
    {
      "cell_type": "code",
      "source": [
        "from transformers import RagModel, RagSequenceForGeneration"
      ],
      "metadata": {
        "id": "tA6xRrO32GUq"
      },
      "execution_count": null,
      "outputs": []
    },
    {
      "cell_type": "code",
      "source": [
        "# Answerer betöltése\n",
        "model = RagTokenForGeneration.from_pretrained(\"facebook/rag-token-base\")\n",
        "#model = RagModel.from_pretrained(\"facebook/rag-token-base\", retriever=retriever)\n"
      ],
      "metadata": {
        "id": "8WKcNFSF1JZd"
      },
      "execution_count": null,
      "outputs": []
    },
    {
      "cell_type": "markdown",
      "source": [
        "A RagModel-t nem enged kérdés válaszra használni ezt az alábbi kód futtatásából tudtam meg, Rag sq generationt sem lehet se pipelineba se text2text-generation pipelineba rakni"
      ],
      "metadata": {
        "id": "XIkV2jPL6-8G"
      }
    },
    {
      "cell_type": "code",
      "source": [
        "model = RagSequenceForGeneration.from_pretrained(\"facebook/rag-token-nq\", retriever=retriever)"
      ],
      "metadata": {
        "id": "fT6JuHEd5EVc"
      },
      "execution_count": null,
      "outputs": []
    },
    {
      "cell_type": "code",
      "source": [
        "# Pipeline létrehozása\n",
        "qa_pipeline = pipeline(\"text2text-generation\", model=model, tokenizer=tokenizer)\n",
        "# Kérdés\n",
        "question = \"What is the name of the main square of Budapest?\"\n",
        "\n",
        "# Pipeline futtatása\n",
        "result = qa_pipeline(question=question, context=\"Hero square is the main square of Budapest\")\n",
        "\n",
        "# Eredmény kiíratása\n",
        "print(result)"
      ],
      "metadata": {
        "id": "xh3GMmXL1Mi2"
      },
      "execution_count": null,
      "outputs": []
    },
    {
      "cell_type": "markdown",
      "source": [
        "# **Második Próba**"
      ],
      "metadata": {
        "id": "uUz6YjJUA8He"
      }
    },
    {
      "cell_type": "markdown",
      "source": [
        "Kiderült, hogy nem képes a beírt tokenizert rendesen exportálni, így nagyon tesztfuttatni sem lehet a működést, nem hogy integrálni"
      ],
      "metadata": {
        "id": "0aPvko1sFsXf"
      }
    },
    {
      "cell_type": "code",
      "source": [
        "from transformers import AutoTokenizer, RagRetriever, RagSequenceForGeneration, RagTokenizer\n",
        "\n",
        "import torch"
      ],
      "metadata": {
        "id": "Dm7PZaxmA7V7"
      },
      "execution_count": null,
      "outputs": []
    },
    {
      "cell_type": "code",
      "source": [
        "#tokenizer = AutoTokenizer.from_pretrained(\"facebook/rag-sequence-nq\")\n",
        "#tokenizer = AutoTokenizer.from_pretrained(\"facebook/rag-token-base\")\n",
        "tokenizer = RagTokenizer.from_pretrained(\"facebook/rag-token-base\")\n",
        "\n",
        "#BartTokenizerFast-ot tud csak futtatni"
      ],
      "metadata": {
        "id": "yaA-Fag6oPCS"
      },
      "execution_count": null,
      "outputs": []
    },
    {
      "cell_type": "code",
      "source": [
        "#retriever = RagRetriever.from_pretrained(\"facebook/rag-sequence-nq\", index_name=\"exact\", use_dummy_dataset=True)\n",
        "retriever = RagRetriever.from_pretrained( \"facebook/rag-token-base\", index_name=\"exact\", use_dummy_dataset=True)"
      ],
      "metadata": {
        "id": "u2o5vGeyoSXK"
      },
      "execution_count": null,
      "outputs": []
    },
    {
      "cell_type": "code",
      "source": [
        "# initialize with RagRetriever to do everything in one forward call\n",
        "#model = RagSequenceForGeneration.from_pretrained(\"facebook/rag-token-nq\", retriever=retriever)\n",
        "model = RagSequenceForGeneration.from_pretrained(\"facebook/rag-token-base\", retriever=retriever)\n"
      ],
      "metadata": {
        "id": "lm5s_yFDoU1v"
      },
      "execution_count": null,
      "outputs": []
    },
    {
      "cell_type": "code",
      "source": [
        "inputs = tokenizer(\"How many people live in Paris?\", return_tensors=\"pt\")\n",
        "\n",
        "targets = tokenizer(text_target=\"In Paris, there are 10 million people.\", return_tensors=\"pt\")\n",
        "\n",
        "input_ids = inputs[\"input_ids\"]\n",
        "\n",
        "labels = targets[\"input_ids\"]\n",
        "\n",
        "outputs = model(input_ids=input_ids, labels=labels)"
      ],
      "metadata": {
        "id": "mEbBj1XooXwr"
      },
      "execution_count": null,
      "outputs": []
    },
    {
      "cell_type": "code",
      "source": [
        "print(outputs)"
      ],
      "metadata": {
        "id": "B-8j8iRZBl5y"
      },
      "execution_count": null,
      "outputs": []
    },
    {
      "cell_type": "code",
      "source": [
        "output_ids = outputs.logits.argmax(-1)\n",
        "output_text = tokenizer.decode(output_ids[0])\n",
        "print(output_text)"
      ],
      "metadata": {
        "colab": {
          "base_uri": "https://localhost:8080/"
        },
        "id": "8M8hCXOOkptW",
        "outputId": "15b96298-8b2a-489e-f2ab-6ef2c160ece6"
      },
      "execution_count": null,
      "outputs": [
        {
          "output_type": "stream",
          "name": "stdout",
          "text": [
            "Ci.. to proportional how::::\n"
          ]
        }
      ]
    }
  ]
}